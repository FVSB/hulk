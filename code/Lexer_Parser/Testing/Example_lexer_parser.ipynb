{
 "cells": [
  {
   "cell_type": "markdown",
   "source": [
    "# Ejemplos de uso para el Lexer y Parser Implementa\n"
   ],
   "metadata": {
    "collapsed": false
   },
   "id": "686acde91df1d45c"
  },
  {
   "cell_type": "markdown",
   "source": [
    "Importar API de Gramática"
   ],
   "metadata": {
    "collapsed": false
   },
   "id": "8be384053dd9aace"
  },
  {
   "cell_type": "code",
   "outputs": [],
   "source": [
    "from cmp.pycompiler import Grammar, Terminal, NonTerminal, Token"
   ],
   "metadata": {
    "collapsed": false,
    "ExecuteTime": {
     "end_time": "2024-03-27T02:57:14.738960Z",
     "start_time": "2024-03-27T02:57:14.733088Z"
    }
   },
   "id": "8141e5f16d89440d",
   "execution_count": 18
  },
  {
   "cell_type": "markdown",
   "source": [
    "## Importar el Lexer"
   ],
   "metadata": {
    "collapsed": false
   },
   "id": "b0a7d3807219957f"
  },
  {
   "cell_type": "code",
   "outputs": [],
   "source": [
    "from Lexer_Parser.lexer import Lexer"
   ],
   "metadata": {
    "collapsed": false,
    "ExecuteTime": {
     "end_time": "2024-03-27T02:57:14.864970Z",
     "start_time": "2024-03-27T02:57:14.858180Z"
    }
   },
   "id": "467c33520ebaedbd",
   "execution_count": 19
  },
  {
   "cell_type": "markdown",
   "source": [
    "## Importar el Parser LR1"
   ],
   "metadata": {
    "collapsed": false
   },
   "id": "6404229d6e34a199"
  },
  {
   "cell_type": "code",
   "outputs": [],
   "source": [
    "from Lexer_Parser.shift_reduce import LR1Parser, evaluate_reverse_parse\n"
   ],
   "metadata": {
    "collapsed": false,
    "ExecuteTime": {
     "end_time": "2024-03-27T02:57:14.896159Z",
     "start_time": "2024-03-27T02:57:14.886981Z"
    }
   },
   "id": "315f08e1a960e0f",
   "execution_count": 20
  },
  {
   "cell_type": "markdown",
   "source": [
    "## Importar AST"
   ],
   "metadata": {
    "collapsed": false
   },
   "id": "3e0cfe541049dc08"
  },
  {
   "cell_type": "code",
   "outputs": [],
   "source": [
    "from cmp.ast import Node, BinaryNode,AtomicNode, UnaryNode, BinaryNode, ConstantNumberNode, DivNode, StarNode, MinusNode, PlusNode,  EqualNode, get_printer"
   ],
   "metadata": {
    "collapsed": false,
    "ExecuteTime": {
     "end_time": "2024-03-27T02:57:14.974521Z",
     "start_time": "2024-03-27T02:57:14.967298Z"
    }
   },
   "id": "6dc37b0623655c51",
   "execution_count": 21
  },
  {
   "cell_type": "markdown",
   "source": [
    "### Crear Gramática"
   ],
   "metadata": {
    "collapsed": false
   },
   "id": "ffdbf27d9f6be1c3"
  },
  {
   "cell_type": "code",
   "outputs": [],
   "source": [
    "G = Grammar()  # Crear gramática"
   ],
   "metadata": {
    "collapsed": false,
    "ExecuteTime": {
     "end_time": "2024-03-27T02:57:14.985205Z",
     "start_time": "2024-03-27T02:57:14.978540Z"
    }
   },
   "id": "bb2941787a7a8f77",
   "execution_count": 22
  },
  {
   "cell_type": "markdown",
   "source": [
    "Añadir terminales y no-terminales"
   ],
   "metadata": {
    "collapsed": false
   },
   "id": "56ce844cd21a30e5"
  },
  {
   "cell_type": "code",
   "outputs": [],
   "source": [
    "E = G.NonTerminal('E', True)\n",
    "A = G.NonTerminal('A')\n",
    "equal, plus, num = G.Terminals('= + int')"
   ],
   "metadata": {
    "collapsed": false,
    "ExecuteTime": {
     "end_time": "2024-03-27T02:57:15.002539Z",
     "start_time": "2024-03-27T02:57:14.996220Z"
    }
   },
   "id": "6426ce366063e359",
   "execution_count": 23
  },
  {
   "cell_type": "markdown",
   "source": [
    "### Producciones"
   ],
   "metadata": {
    "collapsed": false
   },
   "id": "63958d114fbb2e27"
  },
  {
   "cell_type": "code",
   "outputs": [],
   "source": [
    "E %= num, lambda h, s: ConstantNumberNode(s[1]), None\n",
    "E %= A + equal + A, lambda h, s: EqualNode(s[1], s[3]), None, None, None\n",
    "A %= num + plus + A, lambda h, s: PlusNode(ConstantNumberNode(s[1]), s[3]), None, None, None\n",
    "A %= num, lambda h, s: ConstantNumberNode(s[1]), None"
   ],
   "metadata": {
    "collapsed": false,
    "ExecuteTime": {
     "end_time": "2024-03-27T02:57:15.070253Z",
     "start_time": "2024-03-27T02:57:15.062090Z"
    }
   },
   "id": "11390bdec7a478aa",
   "execution_count": 24
  },
  {
   "cell_type": "markdown",
   "source": [
    "#### Generar el Lexer"
   ],
   "metadata": {
    "collapsed": false
   },
   "id": "2335cd7b6e6f7ba2"
  },
  {
   "cell_type": "markdown",
   "source": [
    "Se añade al array de tipos una tupla(tokenType,regex) y el G.EOF para decir que es $"
   ],
   "metadata": {
    "collapsed": false
   },
   "id": "5cec7eb732b0e80d"
  },
  {
   "cell_type": "code",
   "outputs": [],
   "source": [
    "lexer = Lexer(\n",
    "    [\n",
    "        (num, '(1|2|3|4|5|6|7|8|9)(0|1|2|3|4|5|6|7|8|9)*'),\n",
    "\n",
    "        ('space', '( |\\t|\\n)( |\\t|\\n)*'),\n",
    "\n",
    "        (equal, '='),\n",
    "        (plus, '\\+'),\n",
    "\n",
    "    ], G.EOF\n",
    ")"
   ],
   "metadata": {
    "collapsed": false,
    "ExecuteTime": {
     "end_time": "2024-03-27T02:57:15.110722Z",
     "start_time": "2024-03-27T02:57:15.084266Z"
    }
   },
   "id": "8c39397a64de159",
   "execution_count": 25
  },
  {
   "cell_type": "markdown",
   "source": [
    "#### Generar el parser con la gramática"
   ],
   "metadata": {
    "collapsed": false
   },
   "id": "4e9f0a9ec71b33fc"
  },
  {
   "cell_type": "code",
   "outputs": [],
   "source": [
    "parser = LR1Parser(G)"
   ],
   "metadata": {
    "collapsed": false,
    "ExecuteTime": {
     "end_time": "2024-03-27T02:57:15.146371Z",
     "start_time": "2024-03-27T02:57:15.137761Z"
    }
   },
   "id": "5335030b719d89d7",
   "execution_count": 26
  },
  {
   "cell_type": "markdown",
   "source": [
    "# Función para sacar los datos interesantes:"
   ],
   "metadata": {
    "collapsed": false
   },
   "id": "67c3c32d74e9999f"
  },
  {
   "cell_type": "code",
   "outputs": [],
   "source": [
    " def parse(text:str):\n",
    "    \"\"\"\n",
    "    Parsea la cadena, printea los token las producciones y las operaciones shift reduce adeams del ast\n",
    "    :param text: \n",
    "    :return: \n",
    "    \"\"\"\n",
    "    all_tokens = lexer(text)\n",
    "    tokens = list(filter(lambda token: token.token_type != 'space', all_tokens))\n",
    "    print(f\"Los tokens son {tokens}\")\n",
    "    right_parse, operations = parser(tokens)\n",
    "    print(right_parse)\n",
    "    print(\"-----------------------------\")\n",
    "    print(operations)\n",
    "    print(\"###############################\")\n",
    "    \n",
    "    ast = evaluate_reverse_parse(right_parse, operations, tokens)\n",
    "    \n",
    "    printer = get_printer(AtomicNode=ConstantNumberNode, BinaryNode=BinaryNode)\n",
    "    print(f\" \\n El ast es: \\n {printer(ast)}\")"
   ],
   "metadata": {
    "collapsed": false,
    "ExecuteTime": {
     "end_time": "2024-03-27T02:57:15.169443Z",
     "start_time": "2024-03-27T02:57:15.160924Z"
    }
   },
   "id": "8953bb323145eace",
   "execution_count": 27
  },
  {
   "cell_type": "code",
   "outputs": [
    {
     "name": "stdout",
     "output_type": "stream",
     "text": [
      "Los tokens son [int: 6, +: +, int: 7, =: =, int: 13, $: $]\n",
      "[A -> int, A -> int + A, A -> int, E -> A = A]\n",
      "-----------------------------\n",
      "['SHIFT', 'SHIFT', 'SHIFT', 'REDUCE', 'REDUCE', 'SHIFT', 'SHIFT', 'REDUCE', 'REDUCE']\n",
      "###############################\n",
      " \n",
      " El ast es: \n",
      " \\__<expr> EqualNode <expr>\n",
      "\t\\__<expr> PlusNode <expr>\n",
      "\t\t\\__ ConstantNumberNode: 6\n",
      "\t\t\\__ ConstantNumberNode: 7\n",
      "\t\\__ ConstantNumberNode: 13\n"
     ]
    }
   ],
   "source": [
    "parse(\"6+7=13\")"
   ],
   "metadata": {
    "collapsed": false,
    "ExecuteTime": {
     "end_time": "2024-03-27T02:57:15.180885Z",
     "start_time": "2024-03-27T02:57:15.172458Z"
    }
   },
   "id": "240b51efd1581624",
   "execution_count": 28
  },
  {
   "cell_type": "code",
   "outputs": [
    {
     "name": "stdout",
     "output_type": "stream",
     "text": [
      "Los tokens son [int: 1, +: +, int: 2, =: =, int: 3, $: $]\n",
      "[A -> int, A -> int + A, A -> int, E -> A = A]\n",
      "-----------------------------\n",
      "['SHIFT', 'SHIFT', 'SHIFT', 'REDUCE', 'REDUCE', 'SHIFT', 'SHIFT', 'REDUCE', 'REDUCE']\n",
      "###############################\n",
      " \n",
      " El ast es: \n",
      " \\__<expr> EqualNode <expr>\n",
      "\t\\__<expr> PlusNode <expr>\n",
      "\t\t\\__ ConstantNumberNode: 1\n",
      "\t\t\\__ ConstantNumberNode: 2\n",
      "\t\\__ ConstantNumberNode: 3\n"
     ]
    }
   ],
   "source": [
    "parse(\"1+2=3\")"
   ],
   "metadata": {
    "collapsed": false,
    "ExecuteTime": {
     "end_time": "2024-03-27T02:57:15.216607Z",
     "start_time": "2024-03-27T02:57:15.207894Z"
    }
   },
   "id": "7913310989325010",
   "execution_count": 29
  },
  {
   "cell_type": "code",
   "outputs": [],
   "source": [],
   "metadata": {
    "collapsed": false,
    "ExecuteTime": {
     "end_time": "2024-03-27T02:57:15.247422Z",
     "start_time": "2024-03-27T02:57:15.243634Z"
    }
   },
   "id": "e479b488e4219239",
   "execution_count": 29
  }
 ],
 "metadata": {
  "kernelspec": {
   "display_name": "Python 3",
   "language": "python",
   "name": "python3"
  },
  "language_info": {
   "codemirror_mode": {
    "name": "ipython",
    "version": 2
   },
   "file_extension": ".py",
   "mimetype": "text/x-python",
   "name": "python",
   "nbconvert_exporter": "python",
   "pygments_lexer": "ipython2",
   "version": "2.7.6"
  }
 },
 "nbformat": 4,
 "nbformat_minor": 5
}
